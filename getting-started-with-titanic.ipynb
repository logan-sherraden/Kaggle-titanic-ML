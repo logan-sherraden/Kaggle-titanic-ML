{
 "cells": [
  {
   "cell_type": "code",
   "execution_count": 1,
   "id": "ddff18de",
   "metadata": {
    "execution": {
     "iopub.execute_input": "2023-02-24T19:35:29.688136Z",
     "iopub.status.busy": "2023-02-24T19:35:29.687637Z",
     "iopub.status.idle": "2023-02-24T19:35:29.694313Z",
     "shell.execute_reply": "2023-02-24T19:35:29.692985Z"
    },
    "papermill": {
     "duration": 0.01642,
     "end_time": "2023-02-24T19:35:29.698690",
     "exception": false,
     "start_time": "2023-02-24T19:35:29.682270",
     "status": "completed"
    },
    "tags": []
   },
   "outputs": [],
   "source": [
    "# Outline\n",
    "\n",
    "# Setup environment\n",
    "# Data investigation / Correlation between variables\n",
    "# Estimators\n",
    "# Inputation / Feature Encoding\n",
    "# Pipeline \n",
    "# Model Selections\n"
   ]
  },
  {
   "cell_type": "code",
   "execution_count": 2,
   "id": "b946fdec",
   "metadata": {
    "_cell_guid": "b1076dfc-b9ad-4769-8c92-a6c4dae69d19",
    "_uuid": "8f2839f25d086af736a60e9eeb907d3b93b6e0e5",
    "execution": {
     "iopub.execute_input": "2023-02-24T19:35:29.706389Z",
     "iopub.status.busy": "2023-02-24T19:35:29.705526Z",
     "iopub.status.idle": "2023-02-24T19:35:29.718575Z",
     "shell.execute_reply": "2023-02-24T19:35:29.717680Z"
    },
    "papermill": {
     "duration": 0.020327,
     "end_time": "2023-02-24T19:35:29.721986",
     "exception": false,
     "start_time": "2023-02-24T19:35:29.701659",
     "status": "completed"
    },
    "tags": []
   },
   "outputs": [
    {
     "name": "stdout",
     "output_type": "stream",
     "text": [
      "/kaggle/input/titanic/train.csv\n",
      "/kaggle/input/titanic/test.csv\n",
      "/kaggle/input/titanic/gender_submission.csv\n"
     ]
    }
   ],
   "source": [
    "# This Python 3 environment comes with many helpful analytics libraries installed\n",
    "# It is defined by the kaggle/python Docker image: https://github.com/kaggle/docker-python\n",
    "# For example, here's several helpful packages to load\n",
    "\n",
    "import numpy as np # linear algebra\n",
    "import pandas as pd # data processing, CSV file I/O (e.g. pd.read_csv)\n",
    "\n",
    "# Input data files are available in the read-only \"../input/\" directory\n",
    "# For example, running this (by clicking run or pressing Shift+Enter) will list all files under the input directory\n",
    "\n",
    "import os\n",
    "for dirname, _, filenames in os.walk('/kaggle/input'):\n",
    "    for filename in filenames:\n",
    "        print(os.path.join(dirname, filename))\n",
    "\n",
    "# You can write up to 20GB to the current directory (/kaggle/working/) that gets preserved as output when you create a version using \"Save & Run All\" \n",
    "# You can also write temporary files to /kaggle/temp/, but they won't be saved outside of the current session"
   ]
  },
  {
   "cell_type": "code",
   "execution_count": 3,
   "id": "cd8dc671",
   "metadata": {
    "execution": {
     "iopub.execute_input": "2023-02-24T19:35:29.730269Z",
     "iopub.status.busy": "2023-02-24T19:35:29.729187Z",
     "iopub.status.idle": "2023-02-24T19:35:29.794732Z",
     "shell.execute_reply": "2023-02-24T19:35:29.793547Z"
    },
    "papermill": {
     "duration": 0.072141,
     "end_time": "2023-02-24T19:35:29.797271",
     "exception": false,
     "start_time": "2023-02-24T19:35:29.725130",
     "status": "completed"
    },
    "tags": []
   },
   "outputs": [
    {
     "data": {
      "text/html": [
       "<div>\n",
       "<style scoped>\n",
       "    .dataframe tbody tr th:only-of-type {\n",
       "        vertical-align: middle;\n",
       "    }\n",
       "\n",
       "    .dataframe tbody tr th {\n",
       "        vertical-align: top;\n",
       "    }\n",
       "\n",
       "    .dataframe thead th {\n",
       "        text-align: right;\n",
       "    }\n",
       "</style>\n",
       "<table border=\"1\" class=\"dataframe\">\n",
       "  <thead>\n",
       "    <tr style=\"text-align: right;\">\n",
       "      <th></th>\n",
       "      <th>PassengerId</th>\n",
       "      <th>Pclass</th>\n",
       "      <th>Name</th>\n",
       "      <th>Sex</th>\n",
       "      <th>Age</th>\n",
       "      <th>SibSp</th>\n",
       "      <th>Parch</th>\n",
       "      <th>Ticket</th>\n",
       "      <th>Fare</th>\n",
       "      <th>Cabin</th>\n",
       "      <th>Embarked</th>\n",
       "    </tr>\n",
       "  </thead>\n",
       "  <tbody>\n",
       "    <tr>\n",
       "      <th>0</th>\n",
       "      <td>892</td>\n",
       "      <td>3</td>\n",
       "      <td>Kelly, Mr. James</td>\n",
       "      <td>male</td>\n",
       "      <td>34.5</td>\n",
       "      <td>0</td>\n",
       "      <td>0</td>\n",
       "      <td>330911</td>\n",
       "      <td>7.8292</td>\n",
       "      <td>NaN</td>\n",
       "      <td>Q</td>\n",
       "    </tr>\n",
       "    <tr>\n",
       "      <th>1</th>\n",
       "      <td>893</td>\n",
       "      <td>3</td>\n",
       "      <td>Wilkes, Mrs. James (Ellen Needs)</td>\n",
       "      <td>female</td>\n",
       "      <td>47.0</td>\n",
       "      <td>1</td>\n",
       "      <td>0</td>\n",
       "      <td>363272</td>\n",
       "      <td>7.0000</td>\n",
       "      <td>NaN</td>\n",
       "      <td>S</td>\n",
       "    </tr>\n",
       "    <tr>\n",
       "      <th>2</th>\n",
       "      <td>894</td>\n",
       "      <td>2</td>\n",
       "      <td>Myles, Mr. Thomas Francis</td>\n",
       "      <td>male</td>\n",
       "      <td>62.0</td>\n",
       "      <td>0</td>\n",
       "      <td>0</td>\n",
       "      <td>240276</td>\n",
       "      <td>9.6875</td>\n",
       "      <td>NaN</td>\n",
       "      <td>Q</td>\n",
       "    </tr>\n",
       "    <tr>\n",
       "      <th>3</th>\n",
       "      <td>895</td>\n",
       "      <td>3</td>\n",
       "      <td>Wirz, Mr. Albert</td>\n",
       "      <td>male</td>\n",
       "      <td>27.0</td>\n",
       "      <td>0</td>\n",
       "      <td>0</td>\n",
       "      <td>315154</td>\n",
       "      <td>8.6625</td>\n",
       "      <td>NaN</td>\n",
       "      <td>S</td>\n",
       "    </tr>\n",
       "    <tr>\n",
       "      <th>4</th>\n",
       "      <td>896</td>\n",
       "      <td>3</td>\n",
       "      <td>Hirvonen, Mrs. Alexander (Helga E Lindqvist)</td>\n",
       "      <td>female</td>\n",
       "      <td>22.0</td>\n",
       "      <td>1</td>\n",
       "      <td>1</td>\n",
       "      <td>3101298</td>\n",
       "      <td>12.2875</td>\n",
       "      <td>NaN</td>\n",
       "      <td>S</td>\n",
       "    </tr>\n",
       "  </tbody>\n",
       "</table>\n",
       "</div>"
      ],
      "text/plain": [
       "   PassengerId  Pclass                                          Name     Sex  \\\n",
       "0          892       3                              Kelly, Mr. James    male   \n",
       "1          893       3              Wilkes, Mrs. James (Ellen Needs)  female   \n",
       "2          894       2                     Myles, Mr. Thomas Francis    male   \n",
       "3          895       3                              Wirz, Mr. Albert    male   \n",
       "4          896       3  Hirvonen, Mrs. Alexander (Helga E Lindqvist)  female   \n",
       "\n",
       "    Age  SibSp  Parch   Ticket     Fare Cabin Embarked  \n",
       "0  34.5      0      0   330911   7.8292   NaN        Q  \n",
       "1  47.0      1      0   363272   7.0000   NaN        S  \n",
       "2  62.0      0      0   240276   9.6875   NaN        Q  \n",
       "3  27.0      0      0   315154   8.6625   NaN        S  \n",
       "4  22.0      1      1  3101298  12.2875   NaN        S  "
      ]
     },
     "execution_count": 3,
     "metadata": {},
     "output_type": "execute_result"
    }
   ],
   "source": [
    "# Data investigation\n",
    "\n",
    "train_data = pd.read_csv(\"/kaggle/input/titanic/train.csv\")\n",
    "train_data.head()\n",
    "\n",
    "test_data = pd.read_csv(\"/kaggle/input/titanic/test.csv\")\n",
    "test_data.head()\n",
    "\n",
    "# Correlation\n",
    "\n"
   ]
  },
  {
   "cell_type": "code",
   "execution_count": 4,
   "id": "b3257013",
   "metadata": {
    "execution": {
     "iopub.execute_input": "2023-02-24T19:35:29.805549Z",
     "iopub.status.busy": "2023-02-24T19:35:29.805158Z",
     "iopub.status.idle": "2023-02-24T19:35:31.614773Z",
     "shell.execute_reply": "2023-02-24T19:35:31.613371Z"
    },
    "papermill": {
     "duration": 1.817627,
     "end_time": "2023-02-24T19:35:31.618070",
     "exception": false,
     "start_time": "2023-02-24T19:35:29.800443",
     "status": "completed"
    },
    "tags": []
   },
   "outputs": [],
   "source": [
    "# Model selection\n",
    "\n",
    "from sklearn.ensemble import RandomForestClassifier\n",
    "# y = prediction target\n",
    "# test_y = both test_y and train_y because Survived is only in train_data which is what we're testing for\n",
    "test_y = train_data.Survived\n",
    "\n",
    "# change feature to find better fit\n",
    "features = [\"Sex\", \"SibSp\",\"Pclass\"]\n",
    "\n",
    "# turns features into 1, 0 dummy variables so we can see who lived and who died in training and testing data\n",
    "    # training \n",
    "train_X = pd.get_dummies(train_data[features])\n",
    "    # testing\n",
    "test_X = pd.get_dummies(test_data[features])\n",
    "\n",
    "# specify model\n",
    "# need to test estimator\n",
    "model = RandomForestClassifier(n_estimators=100, max_depth=5, random_state=1)\n",
    "\n",
    "# fit model\n",
    "# use test_y because test_y = train_y\n",
    "model.fit(train_X, test_y)\n",
    "\n",
    "predictions = model.predict(test_X)"
   ]
  },
  {
   "cell_type": "code",
   "execution_count": 5,
   "id": "2b76f4fb",
   "metadata": {
    "execution": {
     "iopub.execute_input": "2023-02-24T19:35:31.626924Z",
     "iopub.status.busy": "2023-02-24T19:35:31.626254Z",
     "iopub.status.idle": "2023-02-24T19:35:31.637319Z",
     "shell.execute_reply": "2023-02-24T19:35:31.635646Z"
    },
    "papermill": {
     "duration": 0.018654,
     "end_time": "2023-02-24T19:35:31.640331",
     "exception": false,
     "start_time": "2023-02-24T19:35:31.621677",
     "status": "completed"
    },
    "tags": []
   },
   "outputs": [
    {
     "name": "stdout",
     "output_type": "stream",
     "text": [
      "Your submission was successfully saved!\n"
     ]
    }
   ],
   "source": [
    "# how to create submission for Titanic competition\n",
    "output = pd.DataFrame({'PassengerId': test_data.PassengerId, 'Survived': predictions})\n",
    "output.to_csv('submission.csv', index=False)\n",
    "print(\"Your submission was successfully saved!\")"
   ]
  },
  {
   "cell_type": "code",
   "execution_count": null,
   "id": "fdfd0f00",
   "metadata": {
    "papermill": {
     "duration": 0.002711,
     "end_time": "2023-02-24T19:35:31.646140",
     "exception": false,
     "start_time": "2023-02-24T19:35:31.643429",
     "status": "completed"
    },
    "tags": []
   },
   "outputs": [],
   "source": []
  }
 ],
 "metadata": {
  "kernelspec": {
   "display_name": "Python 3",
   "language": "python",
   "name": "python3"
  },
  "language_info": {
   "codemirror_mode": {
    "name": "ipython",
    "version": 3
   },
   "file_extension": ".py",
   "mimetype": "text/x-python",
   "name": "python",
   "nbconvert_exporter": "python",
   "pygments_lexer": "ipython3",
   "version": "3.7.12"
  },
  "papermill": {
   "default_parameters": {},
   "duration": 14.398457,
   "end_time": "2023-02-24T19:35:32.473739",
   "environment_variables": {},
   "exception": null,
   "input_path": "__notebook__.ipynb",
   "output_path": "__notebook__.ipynb",
   "parameters": {},
   "start_time": "2023-02-24T19:35:18.075282",
   "version": "2.3.4"
  }
 },
 "nbformat": 4,
 "nbformat_minor": 5
}
